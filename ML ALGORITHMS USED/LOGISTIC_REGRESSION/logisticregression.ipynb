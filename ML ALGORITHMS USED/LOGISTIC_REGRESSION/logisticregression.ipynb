{
  "nbformat": 4,
  "nbformat_minor": 0,
  "metadata": {
    "colab": {
      "name": "logisticmutli-si.ipynb",
      "provenance": [],
      "collapsed_sections": [],
      "machine_shape": "hm"
    },
    "kernelspec": {
      "name": "python3",
      "display_name": "Python 3"
    }
  },
  "cells": [
    {
      "cell_type": "code",
      "metadata": {
        "id": "vPEzhq4z4PiJ",
        "colab_type": "code",
        "colab": {}
      },
      "source": [
        "import pandas as pd\n",
        "import numpy as np\n",
        "from sklearn import linear_model\n",
        "import matplotlib.pyplot as plt\n",
        "from sklearn import metrics"
      ],
      "execution_count": null,
      "outputs": []
    },
    {
      "cell_type": "code",
      "metadata": {
        "id": "_NBIA9uZ4QgJ",
        "colab_type": "code",
        "colab": {}
      },
      "source": [
        "df = pd.read_csv(\"base_data2.csv\")\n"
      ],
      "execution_count": null,
      "outputs": []
    },
    {
      "cell_type": "code",
      "metadata": {
        "id": "sVKlXDxl4Qin",
        "colab_type": "code",
        "colab": {
          "base_uri": "https://localhost:8080/",
          "height": 162
        },
        "outputId": "5812cbde-f70f-4d8b-880d-f2ec1ee653e5"
      },
      "source": [
        "df.drop(['CLASS','DT','YEAR','HML_SI_CAT'],axis=1,inplace=True)\n",
        "df.head(3)"
      ],
      "execution_count": null,
      "outputs": [
        {
          "output_type": "execute_result",
          "data": {
            "text/html": [
              "<div>\n",
              "<style scoped>\n",
              "    .dataframe tbody tr th:only-of-type {\n",
              "        vertical-align: middle;\n",
              "    }\n",
              "\n",
              "    .dataframe tbody tr th {\n",
              "        vertical-align: top;\n",
              "    }\n",
              "\n",
              "    .dataframe thead th {\n",
              "        text-align: right;\n",
              "    }\n",
              "</style>\n",
              "<table border=\"1\" class=\"dataframe\">\n",
              "  <thead>\n",
              "    <tr style=\"text-align: right;\">\n",
              "      <th></th>\n",
              "      <th>HML_SI</th>\n",
              "      <th>HML_SI_BIN</th>\n",
              "      <th>CORR_PRODUCTION</th>\n",
              "      <th>CORR_NC_RATE</th>\n",
              "      <th>CORR_COKE_RATE</th>\n",
              "      <th>CORR_FUEL_RATE</th>\n",
              "      <th>CORR_COAL_RATE</th>\n",
              "      <th>HM_TEMP</th>\n",
              "      <th>QUARTZ_RATE</th>\n",
              "      <th>LIMESTONE_RATE</th>\n",
              "      <th>SLAG_RATE</th>\n",
              "      <th>PYROXINITE_RATE</th>\n",
              "      <th>SINTER_PERC</th>\n",
              "      <th>PELLET_PERC</th>\n",
              "      <th>HOT_BLAST_TEMP</th>\n",
              "      <th>COLD_BLAST_O2_ENRICH</th>\n",
              "      <th>O2_INJ_FLOW</th>\n",
              "      <th>COLD_BLAST_HUMID</th>\n",
              "      <th>FUR_RAFT_TEMP</th>\n",
              "      <th>COMP_COLD_BLAST_FLOW</th>\n",
              "      <th>UPTAKE_AVG</th>\n",
              "      <th>HL_TOTAL_GJ_HR</th>\n",
              "      <th>UPPER_K</th>\n",
              "      <th>MIDDLE_K</th>\n",
              "      <th>LOWER_K</th>\n",
              "      <th>K</th>\n",
              "      <th>HML_S</th>\n",
              "      <th>HML_CAO</th>\n",
              "      <th>HML_SIO2</th>\n",
              "      <th>HML_MGO</th>\n",
              "      <th>HML_AL2O3</th>\n",
              "      <th>HML_CAO_SIO2</th>\n",
              "      <th>COK_MOISTURE</th>\n",
              "      <th>COK_CSR</th>\n",
              "      <th>COK_CRI</th>\n",
              "      <th>COK_AMS</th>\n",
              "      <th>SIN_CAO_SIO2</th>\n",
              "      <th>SIN_MGO</th>\n",
              "    </tr>\n",
              "  </thead>\n",
              "  <tbody>\n",
              "    <tr>\n",
              "      <th>0</th>\n",
              "      <td>0.758</td>\n",
              "      <td>0</td>\n",
              "      <td>6392.38</td>\n",
              "      <td>51.624</td>\n",
              "      <td>361.681</td>\n",
              "      <td>539.236</td>\n",
              "      <td>177.555</td>\n",
              "      <td>1514.714</td>\n",
              "      <td>9.048</td>\n",
              "      <td>0.0</td>\n",
              "      <td>292</td>\n",
              "      <td>17.143</td>\n",
              "      <td>46.972</td>\n",
              "      <td>39.951</td>\n",
              "      <td>1186.936</td>\n",
              "      <td>6.981</td>\n",
              "      <td>22528.467</td>\n",
              "      <td>15.857</td>\n",
              "      <td>2246.775</td>\n",
              "      <td>215.774</td>\n",
              "      <td>119.175</td>\n",
              "      <td>138.406</td>\n",
              "      <td>0.553</td>\n",
              "      <td>0.815</td>\n",
              "      <td>2.201</td>\n",
              "      <td>3.568</td>\n",
              "      <td>0.039</td>\n",
              "      <td>35.683</td>\n",
              "      <td>32.997</td>\n",
              "      <td>9.207</td>\n",
              "      <td>19.463</td>\n",
              "      <td>1.081</td>\n",
              "      <td>0.767</td>\n",
              "      <td>67.31</td>\n",
              "      <td>22.38</td>\n",
              "      <td>37.497</td>\n",
              "      <td>2.437</td>\n",
              "      <td>1.710</td>\n",
              "    </tr>\n",
              "    <tr>\n",
              "      <th>1</th>\n",
              "      <td>0.823</td>\n",
              "      <td>0</td>\n",
              "      <td>6398.66</td>\n",
              "      <td>51.730</td>\n",
              "      <td>345.385</td>\n",
              "      <td>531.830</td>\n",
              "      <td>186.445</td>\n",
              "      <td>1509.167</td>\n",
              "      <td>14.762</td>\n",
              "      <td>0.0</td>\n",
              "      <td>298</td>\n",
              "      <td>17.143</td>\n",
              "      <td>49.610</td>\n",
              "      <td>40.000</td>\n",
              "      <td>1187.759</td>\n",
              "      <td>7.000</td>\n",
              "      <td>22554.510</td>\n",
              "      <td>15.600</td>\n",
              "      <td>2219.580</td>\n",
              "      <td>215.272</td>\n",
              "      <td>118.954</td>\n",
              "      <td>133.576</td>\n",
              "      <td>0.575</td>\n",
              "      <td>0.858</td>\n",
              "      <td>2.066</td>\n",
              "      <td>3.500</td>\n",
              "      <td>0.045</td>\n",
              "      <td>34.124</td>\n",
              "      <td>34.620</td>\n",
              "      <td>9.509</td>\n",
              "      <td>19.310</td>\n",
              "      <td>0.986</td>\n",
              "      <td>1.500</td>\n",
              "      <td>67.93</td>\n",
              "      <td>22.96</td>\n",
              "      <td>37.560</td>\n",
              "      <td>2.368</td>\n",
              "      <td>1.792</td>\n",
              "    </tr>\n",
              "    <tr>\n",
              "      <th>2</th>\n",
              "      <td>0.806</td>\n",
              "      <td>0</td>\n",
              "      <td>6438.70</td>\n",
              "      <td>51.874</td>\n",
              "      <td>343.703</td>\n",
              "      <td>529.299</td>\n",
              "      <td>185.596</td>\n",
              "      <td>1517.857</td>\n",
              "      <td>6.825</td>\n",
              "      <td>0.0</td>\n",
              "      <td>296</td>\n",
              "      <td>15.238</td>\n",
              "      <td>50.122</td>\n",
              "      <td>39.965</td>\n",
              "      <td>1186.042</td>\n",
              "      <td>6.877</td>\n",
              "      <td>22178.738</td>\n",
              "      <td>15.138</td>\n",
              "      <td>2215.444</td>\n",
              "      <td>215.966</td>\n",
              "      <td>111.061</td>\n",
              "      <td>129.657</td>\n",
              "      <td>0.571</td>\n",
              "      <td>0.733</td>\n",
              "      <td>2.218</td>\n",
              "      <td>3.522</td>\n",
              "      <td>0.039</td>\n",
              "      <td>34.580</td>\n",
              "      <td>33.847</td>\n",
              "      <td>9.435</td>\n",
              "      <td>19.458</td>\n",
              "      <td>1.022</td>\n",
              "      <td>0.833</td>\n",
              "      <td>68.10</td>\n",
              "      <td>23.50</td>\n",
              "      <td>37.424</td>\n",
              "      <td>2.342</td>\n",
              "      <td>1.710</td>\n",
              "    </tr>\n",
              "  </tbody>\n",
              "</table>\n",
              "</div>"
            ],
            "text/plain": [
              "   HML_SI  HML_SI_BIN  CORR_PRODUCTION  ...  COK_AMS  SIN_CAO_SIO2  SIN_MGO\n",
              "0   0.758           0          6392.38  ...   37.497         2.437    1.710\n",
              "1   0.823           0          6398.66  ...   37.560         2.368    1.792\n",
              "2   0.806           0          6438.70  ...   37.424         2.342    1.710\n",
              "\n",
              "[3 rows x 38 columns]"
            ]
          },
          "metadata": {
            "tags": []
          },
          "execution_count": 5
        }
      ]
    },
    {
      "cell_type": "code",
      "metadata": {
        "id": "7mQqvDcK4QlY",
        "colab_type": "code",
        "colab": {}
      },
      "source": [
        "X=df[['CORR_PRODUCTION','CORR_NC_RATE','CORR_COKE_RATE','CORR_COAL_RATE','HM_TEMP','QUARTZ_RATE','LIMESTONE_RATE','SLAG_RATE','PYROXINITE_RATE','SINTER_PERC','PELLET_PERC','HOT_BLAST_TEMP','COLD_BLAST_O2_ENRICH','COLD_BLAST_HUMID','FUR_RAFT_TEMP','COMP_COLD_BLAST_FLOW','UPTAKE_AVG','HL_TOTAL_GJ_HR','UPPER_K','MIDDLE_K','LOWER_K','K','HML_S','HML_SIO2','HML_MGO','HML_AL2O3','HML_CAO_SIO2','COK_MOISTURE','COK_CSR','COK_CRI','COK_AMS','SIN_CAO_SIO2','SIN_MGO']]\n",
        "y = df.HML_SI_BIN"
      ],
      "execution_count": null,
      "outputs": []
    },
    {
      "cell_type": "code",
      "metadata": {
        "id": "T0n1iU1k4QoJ",
        "colab_type": "code",
        "colab": {}
      },
      "source": [
        "from sklearn.model_selection import train_test_split\n",
        "X_train, X_test, y_train, y_test = train_test_split(X, y, test_size = 0.20604)"
      ],
      "execution_count": null,
      "outputs": []
    },
    {
      "cell_type": "code",
      "metadata": {
        "id": "dIfuOSDs4Qqz",
        "colab_type": "code",
        "colab": {}
      },
      "source": [
        "from sklearn.linear_model import LogisticRegression\n",
        "reg = LogisticRegression()"
      ],
      "execution_count": null,
      "outputs": []
    },
    {
      "cell_type": "code",
      "metadata": {
        "id": "ZG1oWoW__VcP",
        "colab_type": "code",
        "colab": {
          "base_uri": "https://localhost:8080/",
          "height": 238
        },
        "outputId": "c7c579e7-5de3-4cd9-97eb-2a9ce39a532f"
      },
      "source": [
        "reg.fit(X_train,y_train)"
      ],
      "execution_count": null,
      "outputs": [
        {
          "output_type": "stream",
          "text": [
            "/usr/local/lib/python3.6/dist-packages/sklearn/linear_model/_logistic.py:940: ConvergenceWarning: lbfgs failed to converge (status=1):\n",
            "STOP: TOTAL NO. of ITERATIONS REACHED LIMIT.\n",
            "\n",
            "Increase the number of iterations (max_iter) or scale the data as shown in:\n",
            "    https://scikit-learn.org/stable/modules/preprocessing.html\n",
            "Please also refer to the documentation for alternative solver options:\n",
            "    https://scikit-learn.org/stable/modules/linear_model.html#logistic-regression\n",
            "  extra_warning_msg=_LOGISTIC_SOLVER_CONVERGENCE_MSG)\n"
          ],
          "name": "stderr"
        },
        {
          "output_type": "execute_result",
          "data": {
            "text/plain": [
              "LogisticRegression(C=1.0, class_weight=None, dual=False, fit_intercept=True,\n",
              "                   intercept_scaling=1, l1_ratio=None, max_iter=100,\n",
              "                   multi_class='auto', n_jobs=None, penalty='l2',\n",
              "                   random_state=None, solver='lbfgs', tol=0.0001, verbose=0,\n",
              "                   warm_start=False)"
            ]
          },
          "metadata": {
            "tags": []
          },
          "execution_count": 9
        }
      ]
    },
    {
      "cell_type": "code",
      "metadata": {
        "id": "qgYAZ252BwPO",
        "colab_type": "code",
        "colab": {
          "base_uri": "https://localhost:8080/",
          "height": 34
        },
        "outputId": "d6604664-b11f-41b0-da00-62ba8f47f809"
      },
      "source": [
        "reg.score(X_test, y_test)"
      ],
      "execution_count": null,
      "outputs": [
        {
          "output_type": "execute_result",
          "data": {
            "text/plain": [
              "0.7064220183486238"
            ]
          },
          "metadata": {
            "tags": []
          },
          "execution_count": 10
        }
      ]
    },
    {
      "cell_type": "code",
      "metadata": {
        "id": "I3jrQ7w_BwPS",
        "colab_type": "code",
        "colab": {
          "base_uri": "https://localhost:8080/",
          "height": 102
        },
        "outputId": "cff7f822-fe67-4d4c-e74b-f2c7212ef870"
      },
      "source": [
        "reg.predict(X_test)"
      ],
      "execution_count": null,
      "outputs": [
        {
          "output_type": "execute_result",
          "data": {
            "text/plain": [
              "array([1, 0, 1, 0, 1, 0, 0, 0, 0, 0, 1, 0, 1, 0, 0, 1, 0, 0, 1, 0, 1, 0,\n",
              "       0, 0, 1, 0, 0, 1, 0, 1, 1, 0, 0, 0, 0, 1, 0, 0, 0, 1, 0, 0, 0, 0,\n",
              "       0, 0, 0, 1, 0, 0, 1, 1, 0, 1, 0, 0, 0, 0, 0, 0, 0, 1, 0, 0, 0, 1,\n",
              "       0, 0, 0, 0, 1, 0, 0, 1, 1, 0, 0, 0, 0, 0, 1, 0, 1, 1, 0, 1, 0, 0,\n",
              "       0, 0, 0, 0, 1, 1, 0, 0, 0, 1, 0, 1, 0, 0, 0, 0, 1, 0, 1, 0, 1])"
            ]
          },
          "metadata": {
            "tags": []
          },
          "execution_count": 11
        }
      ]
    },
    {
      "cell_type": "code",
      "metadata": {
        "id": "7CEi0SiWBwPY",
        "colab_type": "code",
        "colab": {}
      },
      "source": [
        "y_predicted = reg.predict(X_test)"
      ],
      "execution_count": null,
      "outputs": []
    },
    {
      "cell_type": "code",
      "metadata": {
        "id": "RphHdjQ4BwPa",
        "colab_type": "code",
        "colab": {
          "base_uri": "https://localhost:8080/",
          "height": 51
        },
        "outputId": "5f4a0a9d-c92a-47d3-ef7c-3eee546eca9a"
      },
      "source": [
        "from sklearn.metrics import confusion_matrix\n",
        "cm = confusion_matrix(y_test, y_predicted)\n",
        "cm"
      ],
      "execution_count": null,
      "outputs": [
        {
          "output_type": "execute_result",
          "data": {
            "text/plain": [
              "array([[57, 14],\n",
              "       [18, 20]])"
            ]
          },
          "metadata": {
            "tags": []
          },
          "execution_count": 13
        }
      ]
    },
    {
      "cell_type": "code",
      "metadata": {
        "id": "Gwx_JLucBwPc",
        "colab_type": "code",
        "colab": {
          "base_uri": "https://localhost:8080/",
          "height": 513
        },
        "outputId": "52ffc175-892c-4842-cc50-2879e9abcacd"
      },
      "source": [
        "import seaborn as sn\n",
        "plt.figure(figsize = (10,7))\n",
        "sn.heatmap(cm, annot=True)\n",
        "plt.xlabel('Predicted')\n",
        "plt.ylabel('Truth')"
      ],
      "execution_count": null,
      "outputs": [
        {
          "output_type": "stream",
          "text": [
            "/usr/local/lib/python3.6/dist-packages/statsmodels/tools/_testing.py:19: FutureWarning: pandas.util.testing is deprecated. Use the functions in the public API at pandas.testing instead.\n",
            "  import pandas.util.testing as tm\n"
          ],
          "name": "stderr"
        },
        {
          "output_type": "execute_result",
          "data": {
            "text/plain": [
              "Text(69.0, 0.5, 'Truth')"
            ]
          },
          "metadata": {
            "tags": []
          },
          "execution_count": 14
        },
        {
          "output_type": "display_data",
          "data": {
            "image/png": "[encoded data removed]",
            "text/plain": [
              "<Figure size 720x504 with 2 Axes>"
            ]
          },
          "metadata": {
            "tags": [],
            "needs_background": "light"
          }
        }
      ]
    },
    {
      "cell_type": "code",
      "metadata": {
        "id": "T3CnNzSz4QtY",
        "colab_type": "code",
        "colab": {
          "base_uri": "https://localhost:8080/",
          "height": 238
        },
        "outputId": "432fc442-67dd-4b1e-c4eb-2d82168bc534"
      },
      "source": [
        "from sklearn.linear_model import LogisticRegression \n",
        "classifier = LogisticRegression(random_state = 1) \n",
        "classifier.fit(X_train, y_train) "
      ],
      "execution_count": null,
      "outputs": [
        {
          "output_type": "stream",
          "text": [
            "/usr/local/lib/python3.6/dist-packages/sklearn/linear_model/_logistic.py:940: ConvergenceWarning: lbfgs failed to converge (status=1):\n",
            "STOP: TOTAL NO. of ITERATIONS REACHED LIMIT.\n",
            "\n",
            "Increase the number of iterations (max_iter) or scale the data as shown in:\n",
            "    https://scikit-learn.org/stable/modules/preprocessing.html\n",
            "Please also refer to the documentation for alternative solver options:\n",
            "    https://scikit-learn.org/stable/modules/linear_model.html#logistic-regression\n",
            "  extra_warning_msg=_LOGISTIC_SOLVER_CONVERGENCE_MSG)\n"
          ],
          "name": "stderr"
        },
        {
          "output_type": "execute_result",
          "data": {
            "text/plain": [
              "LogisticRegression(C=1.0, class_weight=None, dual=False, fit_intercept=True,\n",
              "                   intercept_scaling=1, l1_ratio=None, max_iter=100,\n",
              "                   multi_class='auto', n_jobs=None, penalty='l2',\n",
              "                   random_state=1, solver='lbfgs', tol=0.0001, verbose=0,\n",
              "                   warm_start=False)"
            ]
          },
          "metadata": {
            "tags": []
          },
          "execution_count": 15
        }
      ]
    },
    {
      "cell_type": "code",
      "metadata": {
        "id": "qtDBrJ7z4v_j",
        "colab_type": "code",
        "colab": {}
      },
      "source": [
        "y_pred = classifier.predict(X_test) "
      ],
      "execution_count": null,
      "outputs": []
    },
    {
      "cell_type": "code",
      "metadata": {
        "id": "adNrxe6n4wCe",
        "colab_type": "code",
        "colab": {
          "base_uri": "https://localhost:8080/",
          "height": 34
        },
        "outputId": "53d14ee3-aa84-4639-e805-3ac0113b331c"
      },
      "source": [
        "from sklearn.metrics import accuracy_score \n",
        "print (\"Accuracy : \", accuracy_score(y_test, y_pred)) "
      ],
      "execution_count": null,
      "outputs": [
        {
          "output_type": "stream",
          "text": [
            "Accuracy :  0.7064220183486238\n"
          ],
          "name": "stdout"
        }
      ]
    },
    {
      "cell_type": "code",
      "metadata": {
        "id": "fxMXu4T-4OgL",
        "colab_type": "code",
        "colab": {
          "base_uri": "https://localhost:8080/",
          "height": 170
        },
        "outputId": "38ab8225-9af9-4fd0-a6bd-f98c776ec682"
      },
      "source": [
        "X.columns"
      ],
      "execution_count": null,
      "outputs": [
        {
          "output_type": "execute_result",
          "data": {
            "text/plain": [
              "Index(['CORR_PRODUCTION', 'CORR_NC_RATE', 'CORR_COKE_RATE', 'CORR_COAL_RATE',\n",
              "       'HM_TEMP', 'QUARTZ_RATE', 'LIMESTONE_RATE', 'SLAG_RATE',\n",
              "       'PYROXINITE_RATE', 'SINTER_PERC', 'PELLET_PERC', 'HOT_BLAST_TEMP',\n",
              "       'COLD_BLAST_O2_ENRICH', 'COLD_BLAST_HUMID', 'FUR_RAFT_TEMP',\n",
              "       'COMP_COLD_BLAST_FLOW', 'UPTAKE_AVG', 'HL_TOTAL_GJ_HR', 'UPPER_K',\n",
              "       'MIDDLE_K', 'LOWER_K', 'K', 'HML_S', 'HML_SIO2', 'HML_MGO', 'HML_AL2O3',\n",
              "       'HML_CAO_SIO2', 'COK_MOISTURE', 'COK_CSR', 'COK_CRI', 'COK_AMS',\n",
              "       'SIN_CAO_SIO2', 'SIN_MGO'],\n",
              "      dtype='object')"
            ]
          },
          "metadata": {
            "tags": []
          },
          "execution_count": 18
        }
      ]
    },
    {
      "cell_type": "code",
      "metadata": {
        "id": "IE2S-4Zl40Hw",
        "colab_type": "code",
        "colab": {}
      },
      "source": [
        "l = list(X.columns)"
      ],
      "execution_count": null,
      "outputs": []
    },
    {
      "cell_type": "code",
      "metadata": {
        "id": "nV0kUDrp4_gd",
        "colab_type": "code",
        "colab": {}
      },
      "source": [
        "l.append('HML_SI_BIN')"
      ],
      "execution_count": null,
      "outputs": []
    },
    {
      "cell_type": "code",
      "metadata": {
        "id": "4hnskFC95QDc",
        "colab_type": "code",
        "colab": {}
      },
      "source": [
        "df_ = df[l]"
      ],
      "execution_count": null,
      "outputs": []
    },
    {
      "cell_type": "code",
      "metadata": {
        "id": "GVTtC7ut5S8B",
        "colab_type": "code",
        "colab": {
          "base_uri": "https://localhost:8080/",
          "height": 612
        },
        "outputId": "d626c5b2-96c3-4954-d0cb-ec3b7f69f96a"
      },
      "source": [
        "df_.corr()['HML_SI_BIN']"
      ],
      "execution_count": null,
      "outputs": [
        {
          "output_type": "execute_result",
          "data": {
            "text/plain": [
              "CORR_PRODUCTION         0.175139\n",
              "CORR_NC_RATE           -0.032606\n",
              "CORR_COKE_RATE         -0.219178\n",
              "CORR_COAL_RATE          0.238988\n",
              "HM_TEMP                -0.306938\n",
              "QUARTZ_RATE            -0.153562\n",
              "LIMESTONE_RATE         -0.000738\n",
              "SLAG_RATE               0.127064\n",
              "PYROXINITE_RATE         0.150131\n",
              "SINTER_PERC            -0.061611\n",
              "PELLET_PERC             0.024715\n",
              "HOT_BLAST_TEMP          0.037404\n",
              "COLD_BLAST_O2_ENRICH    0.191980\n",
              "COLD_BLAST_HUMID       -0.165389\n",
              "FUR_RAFT_TEMP          -0.128716\n",
              "COMP_COLD_BLAST_FLOW   -0.221053\n",
              "UPTAKE_AVG             -0.110822\n",
              "HL_TOTAL_GJ_HR         -0.086579\n",
              "UPPER_K                -0.203202\n",
              "MIDDLE_K               -0.191863\n",
              "LOWER_K                 0.012891\n",
              "K                      -0.181855\n",
              "HML_S                   0.138720\n",
              "HML_SIO2                0.003719\n",
              "HML_MGO                 0.095085\n",
              "HML_AL2O3              -0.245551\n",
              "HML_CAO_SIO2            0.095557\n",
              "COK_MOISTURE           -0.085439\n",
              "COK_CSR                -0.001980\n",
              "COK_CRI                -0.033347\n",
              "COK_AMS                -0.013868\n",
              "SIN_CAO_SIO2            0.143686\n",
              "SIN_MGO                 0.100610\n",
              "HML_SI_BIN              1.000000\n",
              "Name: HML_SI_BIN, dtype: float64"
            ]
          },
          "metadata": {
            "tags": []
          },
          "execution_count": 22
        }
      ]
    },
    {
      "cell_type": "code",
      "metadata": {
        "id": "QTTHXNnK5WF9",
        "colab_type": "code",
        "colab": {}
      },
      "source": [
        ""
      ],
      "execution_count": null,
      "outputs": []
    }
  ]
}
