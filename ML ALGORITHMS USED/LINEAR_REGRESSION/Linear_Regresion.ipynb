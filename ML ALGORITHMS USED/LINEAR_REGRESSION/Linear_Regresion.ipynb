{
  "nbformat": 4,
  "nbformat_minor": 0,
  "metadata": {
    "colab": {
      "name": "linearmulti.ipynb",
      "provenance": [],
      "collapsed_sections": []
    },
    "kernelspec": {
      "name": "python3",
      "display_name": "Python 3"
    }
  },
  "cells": [
    {
      "cell_type": "code",
      "metadata": {
        "id": "zsYGXhzdPoqW",
        "colab_type": "code",
        "colab": {}
      },
      "source": [
        "#Step 1 :  import all the required libraries required :\n",
        "import pandas as pd\n",
        "import numpy as np\n",
        "from sklearn import linear_model\n",
        "import matplotlib.pyplot as plt\n",
        "from sklearn import metrics\n"
      ],
      "execution_count": null,
      "outputs": []
    },
    {
      "cell_type": "code",
      "metadata": {
        "id": "1KVamJVdPotD",
        "colab_type": "code",
        "colab": {}
      },
      "source": [
        "#Step 2 : Read the dataset : df = pd.read_csv(\"base_data2.csv\")\n",
        "df = pd.read_csv(\"base_data2.csv\")\n"
      ],
      "execution_count": null,
      "outputs": []
    },
    {
      "cell_type": "markdown",
      "metadata": {
        "id": "WtfrZCARqodG",
        "colab_type": "text"
      },
      "source": [
        ""
      ]
    },
    {
      "cell_type": "code",
      "metadata": {
        "id": "fZ_AMirwoxlC",
        "colab_type": "code",
        "colab": {
          "base_uri": "https://localhost:8080/",
          "height": 162
        },
        "outputId": "0d30226b-75ca-4075-87f4-ef638475b4cc"
      },
      "source": [
        "df.drop(['CLASS','DT','YEAR','HML_SI_CAT'],axis=1,inplace=True)\n",
        "df.head(3)"
      ],
      "execution_count": null,
      "outputs": [
        {
          "output_type": "execute_result",
          "data": {
            "text/html": [
              "<div>\n",
              "<style scoped>\n",
              "    .dataframe tbody tr th:only-of-type {\n",
              "        vertical-align: middle;\n",
              "    }\n",
              "\n",
              "    .dataframe tbody tr th {\n",
              "        vertical-align: top;\n",
              "    }\n",
              "\n",
              "    .dataframe thead th {\n",
              "        text-align: right;\n",
              "    }\n",
              "</style>\n",
              "<table border=\"1\" class=\"dataframe\">\n",
              "  <thead>\n",
              "    <tr style=\"text-align: right;\">\n",
              "      <th></th>\n",
              "      <th>HML_SI</th>\n",
              "      <th>HML_SI_BIN</th>\n",
              "      <th>CORR_PRODUCTION</th>\n",
              "      <th>CORR_NC_RATE</th>\n",
              "      <th>CORR_COKE_RATE</th>\n",
              "      <th>CORR_FUEL_RATE</th>\n",
              "      <th>CORR_COAL_RATE</th>\n",
              "      <th>HM_TEMP</th>\n",
              "      <th>QUARTZ_RATE</th>\n",
              "      <th>LIMESTONE_RATE</th>\n",
              "      <th>SLAG_RATE</th>\n",
              "      <th>PYROXINITE_RATE</th>\n",
              "      <th>SINTER_PERC</th>\n",
              "      <th>PELLET_PERC</th>\n",
              "      <th>HOT_BLAST_TEMP</th>\n",
              "      <th>COLD_BLAST_O2_ENRICH</th>\n",
              "      <th>O2_INJ_FLOW</th>\n",
              "      <th>COLD_BLAST_HUMID</th>\n",
              "      <th>FUR_RAFT_TEMP</th>\n",
              "      <th>COMP_COLD_BLAST_FLOW</th>\n",
              "      <th>UPTAKE_AVG</th>\n",
              "      <th>HL_TOTAL_GJ_HR</th>\n",
              "      <th>UPPER_K</th>\n",
              "      <th>MIDDLE_K</th>\n",
              "      <th>LOWER_K</th>\n",
              "      <th>K</th>\n",
              "      <th>HML_S</th>\n",
              "      <th>HML_CAO</th>\n",
              "      <th>HML_SIO2</th>\n",
              "      <th>HML_MGO</th>\n",
              "      <th>HML_AL2O3</th>\n",
              "      <th>HML_CAO_SIO2</th>\n",
              "      <th>COK_MOISTURE</th>\n",
              "      <th>COK_CSR</th>\n",
              "      <th>COK_CRI</th>\n",
              "      <th>COK_AMS</th>\n",
              "      <th>SIN_CAO_SIO2</th>\n",
              "      <th>SIN_MGO</th>\n",
              "    </tr>\n",
              "  </thead>\n",
              "  <tbody>\n",
              "    <tr>\n",
              "      <th>0</th>\n",
              "      <td>0.758</td>\n",
              "      <td>0</td>\n",
              "      <td>6392.38</td>\n",
              "      <td>51.624</td>\n",
              "      <td>361.681</td>\n",
              "      <td>539.236</td>\n",
              "      <td>177.555</td>\n",
              "      <td>1514.714</td>\n",
              "      <td>9.048</td>\n",
              "      <td>0.0</td>\n",
              "      <td>292</td>\n",
              "      <td>17.143</td>\n",
              "      <td>46.972</td>\n",
              "      <td>39.951</td>\n",
              "      <td>1186.936</td>\n",
              "      <td>6.981</td>\n",
              "      <td>22528.467</td>\n",
              "      <td>15.857</td>\n",
              "      <td>2246.775</td>\n",
              "      <td>215.774</td>\n",
              "      <td>119.175</td>\n",
              "      <td>138.406</td>\n",
              "      <td>0.553</td>\n",
              "      <td>0.815</td>\n",
              "      <td>2.201</td>\n",
              "      <td>3.568</td>\n",
              "      <td>0.039</td>\n",
              "      <td>35.683</td>\n",
              "      <td>32.997</td>\n",
              "      <td>9.207</td>\n",
              "      <td>19.463</td>\n",
              "      <td>1.081</td>\n",
              "      <td>0.767</td>\n",
              "      <td>67.31</td>\n",
              "      <td>22.38</td>\n",
              "      <td>37.497</td>\n",
              "      <td>2.437</td>\n",
              "      <td>1.710</td>\n",
              "    </tr>\n",
              "    <tr>\n",
              "      <th>1</th>\n",
              "      <td>0.823</td>\n",
              "      <td>0</td>\n",
              "      <td>6398.66</td>\n",
              "      <td>51.730</td>\n",
              "      <td>345.385</td>\n",
              "      <td>531.830</td>\n",
              "      <td>186.445</td>\n",
              "      <td>1509.167</td>\n",
              "      <td>14.762</td>\n",
              "      <td>0.0</td>\n",
              "      <td>298</td>\n",
              "      <td>17.143</td>\n",
              "      <td>49.610</td>\n",
              "      <td>40.000</td>\n",
              "      <td>1187.759</td>\n",
              "      <td>7.000</td>\n",
              "      <td>22554.510</td>\n",
              "      <td>15.600</td>\n",
              "      <td>2219.580</td>\n",
              "      <td>215.272</td>\n",
              "      <td>118.954</td>\n",
              "      <td>133.576</td>\n",
              "      <td>0.575</td>\n",
              "      <td>0.858</td>\n",
              "      <td>2.066</td>\n",
              "      <td>3.500</td>\n",
              "      <td>0.045</td>\n",
              "      <td>34.124</td>\n",
              "      <td>34.620</td>\n",
              "      <td>9.509</td>\n",
              "      <td>19.310</td>\n",
              "      <td>0.986</td>\n",
              "      <td>1.500</td>\n",
              "      <td>67.93</td>\n",
              "      <td>22.96</td>\n",
              "      <td>37.560</td>\n",
              "      <td>2.368</td>\n",
              "      <td>1.792</td>\n",
              "    </tr>\n",
              "    <tr>\n",
              "      <th>2</th>\n",
              "      <td>0.806</td>\n",
              "      <td>0</td>\n",
              "      <td>6438.70</td>\n",
              "      <td>51.874</td>\n",
              "      <td>343.703</td>\n",
              "      <td>529.299</td>\n",
              "      <td>185.596</td>\n",
              "      <td>1517.857</td>\n",
              "      <td>6.825</td>\n",
              "      <td>0.0</td>\n",
              "      <td>296</td>\n",
              "      <td>15.238</td>\n",
              "      <td>50.122</td>\n",
              "      <td>39.965</td>\n",
              "      <td>1186.042</td>\n",
              "      <td>6.877</td>\n",
              "      <td>22178.738</td>\n",
              "      <td>15.138</td>\n",
              "      <td>2215.444</td>\n",
              "      <td>215.966</td>\n",
              "      <td>111.061</td>\n",
              "      <td>129.657</td>\n",
              "      <td>0.571</td>\n",
              "      <td>0.733</td>\n",
              "      <td>2.218</td>\n",
              "      <td>3.522</td>\n",
              "      <td>0.039</td>\n",
              "      <td>34.580</td>\n",
              "      <td>33.847</td>\n",
              "      <td>9.435</td>\n",
              "      <td>19.458</td>\n",
              "      <td>1.022</td>\n",
              "      <td>0.833</td>\n",
              "      <td>68.10</td>\n",
              "      <td>23.50</td>\n",
              "      <td>37.424</td>\n",
              "      <td>2.342</td>\n",
              "      <td>1.710</td>\n",
              "    </tr>\n",
              "  </tbody>\n",
              "</table>\n",
              "</div>"
            ],
            "text/plain": [
              "   HML_SI  HML_SI_BIN  CORR_PRODUCTION  ...  COK_AMS  SIN_CAO_SIO2  SIN_MGO\n",
              "0   0.758           0          6392.38  ...   37.497         2.437    1.710\n",
              "1   0.823           0          6398.66  ...   37.560         2.368    1.792\n",
              "2   0.806           0          6438.70  ...   37.424         2.342    1.710\n",
              "\n",
              "[3 rows x 38 columns]"
            ]
          },
          "metadata": {
            "tags": []
          },
          "execution_count": 35
        }
      ]
    },
    {
      "cell_type": "code",
      "metadata": {
        "id": "DbJOyTtJviOw",
        "colab_type": "code",
        "colab": {}
      },
      "source": [
        "#Step 3 :  Define X and y\n",
        "X = df[['COLD_BLAST_HUMID','HML_S','HM_TEMP','HML_CAO_SIO2','SLAG_RATE','SIN_CAO_SIO2','CORR_COKE_RATE','HML_MGO']]\n",
        "y = df.HML_SI\n",
        "\n"
      ],
      "execution_count": null,
      "outputs": []
    },
    {
      "cell_type": "code",
      "metadata": {
        "id": "7L4yNEYPvicN",
        "colab_type": "code",
        "colab": {}
      },
      "source": [
        "#Step 4 :  Use train test split from sklearn\n",
        "from sklearn.model_selection import train_test_split\n",
        "X_train, X_test, y_train, y_test = train_test_split(X,y,test_size=0.20604,random_state=1) "
      ],
      "execution_count": null,
      "outputs": []
    },
    {
      "cell_type": "code",
      "metadata": {
        "id": "wU46FR0X0G7P",
        "colab_type": "code",
        "colab": {
          "base_uri": "https://localhost:8080/",
          "height": 439
        },
        "outputId": "07a5ce04-3111-428f-95e9-d4ac110e4653"
      },
      "source": [
        "X_train"
      ],
      "execution_count": null,
      "outputs": [
        {
          "output_type": "execute_result",
          "data": {
            "text/html": [
              "<div>\n",
              "<style scoped>\n",
              "    .dataframe tbody tr th:only-of-type {\n",
              "        vertical-align: middle;\n",
              "    }\n",
              "\n",
              "    .dataframe tbody tr th {\n",
              "        vertical-align: top;\n",
              "    }\n",
              "\n",
              "    .dataframe thead th {\n",
              "        text-align: right;\n",
              "    }\n",
              "</style>\n",
              "<table border=\"1\" class=\"dataframe\">\n",
              "  <thead>\n",
              "    <tr style=\"text-align: right;\">\n",
              "      <th></th>\n",
              "      <th>COLD_BLAST_HUMID</th>\n",
              "      <th>HML_S</th>\n",
              "      <th>HM_TEMP</th>\n",
              "      <th>HML_CAO_SIO2</th>\n",
              "      <th>SLAG_RATE</th>\n",
              "      <th>SIN_CAO_SIO2</th>\n",
              "      <th>CORR_COKE_RATE</th>\n",
              "      <th>HML_MGO</th>\n",
              "    </tr>\n",
              "  </thead>\n",
              "  <tbody>\n",
              "    <tr>\n",
              "      <th>11</th>\n",
              "      <td>18.768</td>\n",
              "      <td>0.044</td>\n",
              "      <td>1512.500</td>\n",
              "      <td>1.007</td>\n",
              "      <td>299</td>\n",
              "      <td>2.295</td>\n",
              "      <td>351.930</td>\n",
              "      <td>9.136</td>\n",
              "    </tr>\n",
              "    <tr>\n",
              "      <th>147</th>\n",
              "      <td>17.356</td>\n",
              "      <td>0.044</td>\n",
              "      <td>1520.000</td>\n",
              "      <td>0.999</td>\n",
              "      <td>302</td>\n",
              "      <td>2.584</td>\n",
              "      <td>320.838</td>\n",
              "      <td>9.837</td>\n",
              "    </tr>\n",
              "    <tr>\n",
              "      <th>119</th>\n",
              "      <td>15.798</td>\n",
              "      <td>0.033</td>\n",
              "      <td>1517.625</td>\n",
              "      <td>1.057</td>\n",
              "      <td>293</td>\n",
              "      <td>2.616</td>\n",
              "      <td>317.204</td>\n",
              "      <td>9.807</td>\n",
              "    </tr>\n",
              "    <tr>\n",
              "      <th>142</th>\n",
              "      <td>15.098</td>\n",
              "      <td>0.034</td>\n",
              "      <td>1512.333</td>\n",
              "      <td>1.063</td>\n",
              "      <td>290</td>\n",
              "      <td>2.630</td>\n",
              "      <td>309.600</td>\n",
              "      <td>9.383</td>\n",
              "    </tr>\n",
              "    <tr>\n",
              "      <th>382</th>\n",
              "      <td>15.484</td>\n",
              "      <td>0.040</td>\n",
              "      <td>1501.333</td>\n",
              "      <td>1.049</td>\n",
              "      <td>286</td>\n",
              "      <td>2.849</td>\n",
              "      <td>334.581</td>\n",
              "      <td>9.727</td>\n",
              "    </tr>\n",
              "    <tr>\n",
              "      <th>...</th>\n",
              "      <td>...</td>\n",
              "      <td>...</td>\n",
              "      <td>...</td>\n",
              "      <td>...</td>\n",
              "      <td>...</td>\n",
              "      <td>...</td>\n",
              "      <td>...</td>\n",
              "      <td>...</td>\n",
              "    </tr>\n",
              "    <tr>\n",
              "      <th>129</th>\n",
              "      <td>17.912</td>\n",
              "      <td>0.041</td>\n",
              "      <td>1505.375</td>\n",
              "      <td>1.042</td>\n",
              "      <td>294</td>\n",
              "      <td>2.642</td>\n",
              "      <td>308.044</td>\n",
              "      <td>9.607</td>\n",
              "    </tr>\n",
              "    <tr>\n",
              "      <th>144</th>\n",
              "      <td>19.876</td>\n",
              "      <td>0.033</td>\n",
              "      <td>1517.333</td>\n",
              "      <td>1.075</td>\n",
              "      <td>291</td>\n",
              "      <td>2.603</td>\n",
              "      <td>314.855</td>\n",
              "      <td>8.642</td>\n",
              "    </tr>\n",
              "    <tr>\n",
              "      <th>72</th>\n",
              "      <td>18.464</td>\n",
              "      <td>0.031</td>\n",
              "      <td>1516.833</td>\n",
              "      <td>1.068</td>\n",
              "      <td>291</td>\n",
              "      <td>2.660</td>\n",
              "      <td>336.413</td>\n",
              "      <td>10.055</td>\n",
              "    </tr>\n",
              "    <tr>\n",
              "      <th>235</th>\n",
              "      <td>17.820</td>\n",
              "      <td>0.040</td>\n",
              "      <td>1502.000</td>\n",
              "      <td>1.044</td>\n",
              "      <td>302</td>\n",
              "      <td>2.793</td>\n",
              "      <td>325.426</td>\n",
              "      <td>9.197</td>\n",
              "    </tr>\n",
              "    <tr>\n",
              "      <th>37</th>\n",
              "      <td>17.229</td>\n",
              "      <td>0.039</td>\n",
              "      <td>1508.429</td>\n",
              "      <td>1.032</td>\n",
              "      <td>278</td>\n",
              "      <td>2.526</td>\n",
              "      <td>339.449</td>\n",
              "      <td>9.535</td>\n",
              "    </tr>\n",
              "  </tbody>\n",
              "</table>\n",
              "<p>419 rows × 8 columns</p>\n",
              "</div>"
            ],
            "text/plain": [
              "     COLD_BLAST_HUMID  HML_S   HM_TEMP  ...  SIN_CAO_SIO2  CORR_COKE_RATE  HML_MGO\n",
              "11             18.768  0.044  1512.500  ...         2.295         351.930    9.136\n",
              "147            17.356  0.044  1520.000  ...         2.584         320.838    9.837\n",
              "119            15.798  0.033  1517.625  ...         2.616         317.204    9.807\n",
              "142            15.098  0.034  1512.333  ...         2.630         309.600    9.383\n",
              "382            15.484  0.040  1501.333  ...         2.849         334.581    9.727\n",
              "..                ...    ...       ...  ...           ...             ...      ...\n",
              "129            17.912  0.041  1505.375  ...         2.642         308.044    9.607\n",
              "144            19.876  0.033  1517.333  ...         2.603         314.855    8.642\n",
              "72             18.464  0.031  1516.833  ...         2.660         336.413   10.055\n",
              "235            17.820  0.040  1502.000  ...         2.793         325.426    9.197\n",
              "37             17.229  0.039  1508.429  ...         2.526         339.449    9.535\n",
              "\n",
              "[419 rows x 8 columns]"
            ]
          },
          "metadata": {
            "tags": []
          },
          "execution_count": 38
        }
      ]
    },
    {
      "cell_type": "code",
      "metadata": {
        "id": "gZyQq9dE0HD9",
        "colab_type": "code",
        "colab": {
          "base_uri": "https://localhost:8080/",
          "height": 54
        },
        "outputId": "27dac995-8e09-4a37-a8c8-2e3233bd601c"
      },
      "source": [
        "#Step 5 : lets train our model and fit the dataset.\n",
        "from sklearn.linear_model import LinearRegression\n",
        "reg = LinearRegression()\n",
        "reg.fit(X_train, y_train)"
      ],
      "execution_count": null,
      "outputs": [
        {
          "output_type": "execute_result",
          "data": {
            "text/plain": [
              "LinearRegression(copy_X=True, fit_intercept=True, n_jobs=None, normalize=False)"
            ]
          },
          "metadata": {
            "tags": []
          },
          "execution_count": 39
        }
      ]
    },
    {
      "cell_type": "code",
      "metadata": {
        "id": "52RuRwv70HC5",
        "colab_type": "code",
        "colab": {}
      },
      "source": [
        "#Step 6: Now find the y_predict\n",
        "y_pred = reg.predict(X_test)\n"
      ],
      "execution_count": null,
      "outputs": []
    },
    {
      "cell_type": "code",
      "metadata": {
        "id": "7-AtM9Bm0HBi",
        "colab_type": "code",
        "colab": {
          "base_uri": "https://localhost:8080/",
          "height": 34
        },
        "outputId": "282cba85-a6d3-40b8-c349-dd3b19d20318"
      },
      "source": [
        "print(np.sqrt(metrics.mean_squared_error(y_test, y_pred)))"
      ],
      "execution_count": null,
      "outputs": [
        {
          "output_type": "stream",
          "text": [
            "0.04708930012941811\n"
          ],
          "name": "stdout"
        }
      ]
    },
    {
      "cell_type": "code",
      "metadata": {
        "id": "wgvkg7Le3ks6",
        "colab_type": "code",
        "colab": {
          "base_uri": "https://localhost:8080/",
          "height": 68
        },
        "outputId": "38f88382-c08f-4a0c-8250-b8ed2c5f76b6"
      },
      "source": [
        "print('Mean Absolute Error:', metrics.mean_absolute_error(y_test, y_pred))  \n",
        "print('Mean Squared Error:', metrics.mean_squared_error(y_test, y_pred))  \n",
        "print('Root Mean Squared Error:', np.sqrt(metrics.mean_squared_error(y_test, y_pred)))"
      ],
      "execution_count": null,
      "outputs": [
        {
          "output_type": "stream",
          "text": [
            "Mean Absolute Error: 0.03864175613780758\n",
            "Mean Squared Error: 0.002217402186678416\n",
            "Root Mean Squared Error: 0.04708930012941811\n"
          ],
          "name": "stdout"
        }
      ]
    },
    {
      "cell_type": "code",
      "metadata": {
        "id": "9Wt5--jv7D-n",
        "colab_type": "code",
        "colab": {
          "base_uri": "https://localhost:8080/",
          "height": 34
        },
        "outputId": "96c5edda-c64c-4e16-a57a-07be0ff68ad2"
      },
      "source": [
        "#Step 7 : Now check the accuracy of the model \n",
        "print(reg.score(X_test, y_test))"
      ],
      "execution_count": null,
      "outputs": [
        {
          "output_type": "stream",
          "text": [
            "0.5578774493634775\n"
          ],
          "name": "stdout"
        }
      ]
    },
    {
      "cell_type": "code",
      "metadata": {
        "id": "i8P1M3Lc-cax",
        "colab_type": "code",
        "colab": {
          "base_uri": "https://localhost:8080/",
          "height": 88
        },
        "outputId": "1de849a6-e540-45a7-9ee4-a89ee7705465"
      },
      "source": [
        "X.columns"
      ],
      "execution_count": null,
      "outputs": [
        {
          "output_type": "execute_result",
          "data": {
            "text/plain": [
              "Index(['COLD_BLAST_HUMID', 'HML_S', 'HM_TEMP', 'HML_CAO_SIO2', 'SLAG_RATE',\n",
              "       'SIN_CAO_SIO2', 'CORR_COKE_RATE', 'HML_MGO'],\n",
              "      dtype='object')"
            ]
          },
          "metadata": {
            "tags": []
          },
          "execution_count": 44
        }
      ]
    },
    {
      "cell_type": "code",
      "metadata": {
        "id": "p2GOXd37-fCc",
        "colab_type": "code",
        "colab": {}
      },
      "source": [
        "l = list(X.columns)"
      ],
      "execution_count": null,
      "outputs": []
    },
    {
      "cell_type": "code",
      "metadata": {
        "id": "0Y8rvd_s-ht5",
        "colab_type": "code",
        "colab": {}
      },
      "source": [
        "l.append('HML_SI')"
      ],
      "execution_count": null,
      "outputs": []
    },
    {
      "cell_type": "code",
      "metadata": {
        "id": "0nvZPP_i-kXc",
        "colab_type": "code",
        "colab": {}
      },
      "source": [
        "df_ = df[l]\n"
      ],
      "execution_count": null,
      "outputs": []
    },
    {
      "cell_type": "code",
      "metadata": {
        "id": "he9krGm2-o3j",
        "colab_type": "code",
        "colab": {
          "base_uri": "https://localhost:8080/",
          "height": 187
        },
        "outputId": "22dd97f9-26ca-4570-9997-dc3c92efdb46"
      },
      "source": [
        "df_.corr()['HML_SI']"
      ],
      "execution_count": null,
      "outputs": [
        {
          "output_type": "execute_result",
          "data": {
            "text/plain": [
              "COLD_BLAST_HUMID    0.307373\n",
              "HML_S              -0.145571\n",
              "HM_TEMP             0.385155\n",
              "HML_CAO_SIO2       -0.147114\n",
              "SLAG_RATE          -0.185580\n",
              "SIN_CAO_SIO2       -0.197931\n",
              "CORR_COKE_RATE      0.291107\n",
              "HML_MGO            -0.075009\n",
              "HML_SI              1.000000\n",
              "Name: HML_SI, dtype: float64"
            ]
          },
          "metadata": {
            "tags": []
          },
          "execution_count": 48
        }
      ]
    }
  ]
}
