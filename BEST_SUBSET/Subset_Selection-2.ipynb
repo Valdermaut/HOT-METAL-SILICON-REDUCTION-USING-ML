{
  "nbformat": 4,
  "nbformat_minor": 0,
  "metadata": {
    "anaconda-cloud": {},
    "kernelspec": {
      "display_name": "Python [default]",
      "language": "python",
      "name": "python3"
    },
    "language_info": {
      "codemirror_mode": {
        "name": "ipython",
        "version": 3
      },
      "file_extension": ".py",
      "mimetype": "text/x-python",
      "name": "python",
      "nbconvert_exporter": "python",
      "pygments_lexer": "ipython3",
      "version": "3.5.2"
    },
    "colab": {
      "name": "Subset-Selection.ipynb",
      "provenance": []
    }
  },
  "cells": [
    {
      "cell_type": "code",
      "metadata": {
        "id": "-PcFlS7NO4tp",
        "colab_type": "code",
        "colab": {
          "base_uri": "https://localhost:8080/",
          "height": 71
        },
        "outputId": "ccc8220f-409c-4c2a-b493-abc5771e2b6c"
      },
      "source": [
        "%matplotlib inline\n",
        "import pandas as pd\n",
        "import numpy as np\n",
        "import itertools\n",
        "import time\n",
        "import statsmodels.api as sm\n",
        "import matplotlib.pyplot as plt"
      ],
      "execution_count": null,
      "outputs": [
        {
          "output_type": "stream",
          "text": [
            "/usr/local/lib/python3.6/dist-packages/statsmodels/tools/_testing.py:19: FutureWarning: pandas.util.testing is deprecated. Use the functions in the public API at pandas.testing instead.\n",
            "  import pandas.util.testing as tm\n"
          ],
          "name": "stderr"
        }
      ]
    },
    {
      "cell_type": "code",
      "metadata": {
        "id": "wxnTHJX7O4t1",
        "colab_type": "code",
        "colab": {
          "base_uri": "https://localhost:8080/",
          "height": 162
        },
        "outputId": "edea1d8b-606d-465e-fa7a-9ae87d0350b5"
      },
      "source": [
        "df = pd.read_csv('base_data2.csv')\n",
        "df.drop(['CLASS','DT','YEAR','HML_SI_CAT'],axis=1,inplace=True)\n",
        "df.head(3)"
      ],
      "execution_count": null,
      "outputs": [
        {
          "output_type": "execute_result",
          "data": {
            "text/html": [
              "<div>\n",
              "<style scoped>\n",
              "    .dataframe tbody tr th:only-of-type {\n",
              "        vertical-align: middle;\n",
              "    }\n",
              "\n",
              "    .dataframe tbody tr th {\n",
              "        vertical-align: top;\n",
              "    }\n",
              "\n",
              "    .dataframe thead th {\n",
              "        text-align: right;\n",
              "    }\n",
              "</style>\n",
              "<table border=\"1\" class=\"dataframe\">\n",
              "  <thead>\n",
              "    <tr style=\"text-align: right;\">\n",
              "      <th></th>\n",
              "      <th>HML_SI</th>\n",
              "      <th>HML_SI_BIN</th>\n",
              "      <th>CORR_PRODUCTION</th>\n",
              "      <th>CORR_NC_RATE</th>\n",
              "      <th>CORR_COKE_RATE</th>\n",
              "      <th>CORR_FUEL_RATE</th>\n",
              "      <th>CORR_COAL_RATE</th>\n",
              "      <th>HM_TEMP</th>\n",
              "      <th>QUARTZ_RATE</th>\n",
              "      <th>LIMESTONE_RATE</th>\n",
              "      <th>SLAG_RATE</th>\n",
              "      <th>PYROXINITE_RATE</th>\n",
              "      <th>SINTER_PERC</th>\n",
              "      <th>PELLET_PERC</th>\n",
              "      <th>HOT_BLAST_TEMP</th>\n",
              "      <th>COLD_BLAST_O2_ENRICH</th>\n",
              "      <th>O2_INJ_FLOW</th>\n",
              "      <th>COLD_BLAST_HUMID</th>\n",
              "      <th>FUR_RAFT_TEMP</th>\n",
              "      <th>COMP_COLD_BLAST_FLOW</th>\n",
              "      <th>UPTAKE_AVG</th>\n",
              "      <th>HL_TOTAL_GJ_HR</th>\n",
              "      <th>UPPER_K</th>\n",
              "      <th>MIDDLE_K</th>\n",
              "      <th>LOWER_K</th>\n",
              "      <th>K</th>\n",
              "      <th>HML_S</th>\n",
              "      <th>HML_CAO</th>\n",
              "      <th>HML_SIO2</th>\n",
              "      <th>HML_MGO</th>\n",
              "      <th>HML_AL2O3</th>\n",
              "      <th>HML_CAO_SIO2</th>\n",
              "      <th>COK_MOISTURE</th>\n",
              "      <th>COK_CSR</th>\n",
              "      <th>COK_CRI</th>\n",
              "      <th>COK_AMS</th>\n",
              "      <th>SIN_CAO_SIO2</th>\n",
              "      <th>SIN_MGO</th>\n",
              "    </tr>\n",
              "  </thead>\n",
              "  <tbody>\n",
              "    <tr>\n",
              "      <th>0</th>\n",
              "      <td>0.758</td>\n",
              "      <td>0</td>\n",
              "      <td>6392.38</td>\n",
              "      <td>51.624</td>\n",
              "      <td>361.681</td>\n",
              "      <td>539.236</td>\n",
              "      <td>177.555</td>\n",
              "      <td>1514.714</td>\n",
              "      <td>9.048</td>\n",
              "      <td>0.0</td>\n",
              "      <td>292</td>\n",
              "      <td>17.143</td>\n",
              "      <td>46.972</td>\n",
              "      <td>39.951</td>\n",
              "      <td>1186.936</td>\n",
              "      <td>6.981</td>\n",
              "      <td>22528.467</td>\n",
              "      <td>15.857</td>\n",
              "      <td>2246.775</td>\n",
              "      <td>215.774</td>\n",
              "      <td>119.175</td>\n",
              "      <td>138.406</td>\n",
              "      <td>0.553</td>\n",
              "      <td>0.815</td>\n",
              "      <td>2.201</td>\n",
              "      <td>3.568</td>\n",
              "      <td>0.039</td>\n",
              "      <td>35.683</td>\n",
              "      <td>32.997</td>\n",
              "      <td>9.207</td>\n",
              "      <td>19.463</td>\n",
              "      <td>1.081</td>\n",
              "      <td>0.767</td>\n",
              "      <td>67.31</td>\n",
              "      <td>22.38</td>\n",
              "      <td>37.497</td>\n",
              "      <td>2.437</td>\n",
              "      <td>1.710</td>\n",
              "    </tr>\n",
              "    <tr>\n",
              "      <th>1</th>\n",
              "      <td>0.823</td>\n",
              "      <td>0</td>\n",
              "      <td>6398.66</td>\n",
              "      <td>51.730</td>\n",
              "      <td>345.385</td>\n",
              "      <td>531.830</td>\n",
              "      <td>186.445</td>\n",
              "      <td>1509.167</td>\n",
              "      <td>14.762</td>\n",
              "      <td>0.0</td>\n",
              "      <td>298</td>\n",
              "      <td>17.143</td>\n",
              "      <td>49.610</td>\n",
              "      <td>40.000</td>\n",
              "      <td>1187.759</td>\n",
              "      <td>7.000</td>\n",
              "      <td>22554.510</td>\n",
              "      <td>15.600</td>\n",
              "      <td>2219.580</td>\n",
              "      <td>215.272</td>\n",
              "      <td>118.954</td>\n",
              "      <td>133.576</td>\n",
              "      <td>0.575</td>\n",
              "      <td>0.858</td>\n",
              "      <td>2.066</td>\n",
              "      <td>3.500</td>\n",
              "      <td>0.045</td>\n",
              "      <td>34.124</td>\n",
              "      <td>34.620</td>\n",
              "      <td>9.509</td>\n",
              "      <td>19.310</td>\n",
              "      <td>0.986</td>\n",
              "      <td>1.500</td>\n",
              "      <td>67.93</td>\n",
              "      <td>22.96</td>\n",
              "      <td>37.560</td>\n",
              "      <td>2.368</td>\n",
              "      <td>1.792</td>\n",
              "    </tr>\n",
              "    <tr>\n",
              "      <th>2</th>\n",
              "      <td>0.806</td>\n",
              "      <td>0</td>\n",
              "      <td>6438.70</td>\n",
              "      <td>51.874</td>\n",
              "      <td>343.703</td>\n",
              "      <td>529.299</td>\n",
              "      <td>185.596</td>\n",
              "      <td>1517.857</td>\n",
              "      <td>6.825</td>\n",
              "      <td>0.0</td>\n",
              "      <td>296</td>\n",
              "      <td>15.238</td>\n",
              "      <td>50.122</td>\n",
              "      <td>39.965</td>\n",
              "      <td>1186.042</td>\n",
              "      <td>6.877</td>\n",
              "      <td>22178.738</td>\n",
              "      <td>15.138</td>\n",
              "      <td>2215.444</td>\n",
              "      <td>215.966</td>\n",
              "      <td>111.061</td>\n",
              "      <td>129.657</td>\n",
              "      <td>0.571</td>\n",
              "      <td>0.733</td>\n",
              "      <td>2.218</td>\n",
              "      <td>3.522</td>\n",
              "      <td>0.039</td>\n",
              "      <td>34.580</td>\n",
              "      <td>33.847</td>\n",
              "      <td>9.435</td>\n",
              "      <td>19.458</td>\n",
              "      <td>1.022</td>\n",
              "      <td>0.833</td>\n",
              "      <td>68.10</td>\n",
              "      <td>23.50</td>\n",
              "      <td>37.424</td>\n",
              "      <td>2.342</td>\n",
              "      <td>1.710</td>\n",
              "    </tr>\n",
              "  </tbody>\n",
              "</table>\n",
              "</div>"
            ],
            "text/plain": [
              "   HML_SI  HML_SI_BIN  CORR_PRODUCTION  ...  COK_AMS  SIN_CAO_SIO2  SIN_MGO\n",
              "0   0.758           0          6392.38  ...   37.497         2.437    1.710\n",
              "1   0.823           0          6398.66  ...   37.560         2.368    1.792\n",
              "2   0.806           0          6438.70  ...   37.424         2.342    1.710\n",
              "\n",
              "[3 rows x 38 columns]"
            ]
          },
          "metadata": {
            "tags": []
          },
          "execution_count": 2
        }
      ]
    },
    {
      "cell_type": "code",
      "metadata": {
        "id": "hHp7mwB3LhUX",
        "colab_type": "code",
        "colab": {
          "base_uri": "https://localhost:8080/",
          "height": 680
        },
        "outputId": "316600bb-59e5-45a3-d927-d12b770d333f"
      },
      "source": [
        "df.corr()['HML_SI_BIN']"
      ],
      "execution_count": null,
      "outputs": [
        {
          "output_type": "execute_result",
          "data": {
            "text/plain": [
              "HML_SI                 -0.732145\n",
              "HML_SI_BIN              1.000000\n",
              "CORR_PRODUCTION         0.175139\n",
              "CORR_NC_RATE           -0.032606\n",
              "CORR_COKE_RATE         -0.219178\n",
              "CORR_FUEL_RATE         -0.064499\n",
              "CORR_COAL_RATE          0.238988\n",
              "HM_TEMP                -0.306938\n",
              "QUARTZ_RATE            -0.153562\n",
              "LIMESTONE_RATE         -0.000738\n",
              "SLAG_RATE               0.127064\n",
              "PYROXINITE_RATE         0.150131\n",
              "SINTER_PERC            -0.061611\n",
              "PELLET_PERC             0.024715\n",
              "HOT_BLAST_TEMP          0.037404\n",
              "COLD_BLAST_O2_ENRICH    0.191980\n",
              "O2_INJ_FLOW             0.164083\n",
              "COLD_BLAST_HUMID       -0.165389\n",
              "FUR_RAFT_TEMP          -0.128716\n",
              "COMP_COLD_BLAST_FLOW   -0.221053\n",
              "UPTAKE_AVG             -0.110822\n",
              "HL_TOTAL_GJ_HR         -0.086579\n",
              "UPPER_K                -0.203202\n",
              "MIDDLE_K               -0.191863\n",
              "LOWER_K                 0.012891\n",
              "K                      -0.181855\n",
              "HML_S                   0.138720\n",
              "HML_CAO                 0.121752\n",
              "HML_SIO2                0.003719\n",
              "HML_MGO                 0.095085\n",
              "HML_AL2O3              -0.245551\n",
              "HML_CAO_SIO2            0.095557\n",
              "COK_MOISTURE           -0.085439\n",
              "COK_CSR                -0.001980\n",
              "COK_CRI                -0.033347\n",
              "COK_AMS                -0.013868\n",
              "SIN_CAO_SIO2            0.143686\n",
              "SIN_MGO                 0.100610\n",
              "Name: HML_SI_BIN, dtype: float64"
            ]
          },
          "metadata": {
            "tags": []
          },
          "execution_count": 3
        }
      ]
    },
    {
      "cell_type": "code",
      "metadata": {
        "id": "1lyVKZmRPwH6",
        "colab_type": "code",
        "colab": {}
      },
      "source": [
        "X= df[['CORR_PRODUCTION','CORR_NC_RATE','CORR_COKE_RATE','CORR_COAL_RATE','HM_TEMP','QUARTZ_RATE','LIMESTONE_RATE','SLAG_RATE','PYROXINITE_RATE','SINTER_PERC','PELLET_PERC','HOT_BLAST_TEMP','COLD_BLAST_O2_ENRICH','COLD_BLAST_HUMID','FUR_RAFT_TEMP','COMP_COLD_BLAST_FLOW','UPTAKE_AVG','HL_TOTAL_GJ_HR','UPPER_K','MIDDLE_K','LOWER_K','K','HML_S','HML_SIO2','HML_MGO','HML_AL2O3','HML_CAO_SIO2','COK_MOISTURE','COK_CSR','COK_CRI','COK_AMS','SIN_CAO_SIO2','SIN_MGO']]\n",
        "y = df.HML_SI"
      ],
      "execution_count": null,
      "outputs": []
    },
    {
      "cell_type": "code",
      "metadata": {
        "id": "lqL9ZkUlJ3xI",
        "colab_type": "code",
        "colab": {}
      },
      "source": [
        "\n",
        "l=X.columns"
      ],
      "execution_count": null,
      "outputs": []
    },
    {
      "cell_type": "code",
      "metadata": {
        "id": "UhWFb0ZIJZOr",
        "colab_type": "code",
        "colab": {}
      },
      "source": [
        "from sklearn.preprocessing import StandardScaler\n",
        "X = pd.DataFrame(StandardScaler().fit_transform(X))\n",
        "X.columns = l"
      ],
      "execution_count": null,
      "outputs": []
    },
    {
      "cell_type": "code",
      "metadata": {
        "id": "4Kd4m8_fJyn4",
        "colab_type": "code",
        "colab": {}
      },
      "source": [
        ""
      ],
      "execution_count": null,
      "outputs": []
    },
    {
      "cell_type": "code",
      "metadata": {
        "id": "EXF0gvC_HCyq",
        "colab_type": "code",
        "colab": {
          "base_uri": "https://localhost:8080/",
          "height": 119
        },
        "outputId": "fe7b151f-c30c-4d47-a033-0283c39ad025"
      },
      "source": [
        "X['COMP_COLD_BLAST_FLOW'].tail()"
      ],
      "execution_count": null,
      "outputs": [
        {
          "output_type": "execute_result",
          "data": {
            "text/plain": [
              "523   -1.306155\n",
              "524   -1.493247\n",
              "525   -1.078227\n",
              "526   -0.999802\n",
              "527   -0.348140\n",
              "Name: COMP_COLD_BLAST_FLOW, dtype: float64"
            ]
          },
          "metadata": {
            "tags": []
          },
          "execution_count": 7
        }
      ]
    },
    {
      "cell_type": "code",
      "metadata": {
        "id": "qhQ0mSj0O4uS",
        "colab_type": "code",
        "colab": {}
      },
      "source": [
        "def processSubset(feature_set):\n",
        "    # Fit model on feature_set and calculate RSS\n",
        "    model = sm.OLS(y,X[list(feature_set)])\n",
        "    regr = model.fit()\n",
        "    RSS = ((regr.predict(X[list(feature_set)]) - y) ** 2).sum()\n",
        "    return {\"model\":regr, \"RSS\":RSS}"
      ],
      "execution_count": null,
      "outputs": []
    },
    {
      "cell_type": "code",
      "metadata": {
        "id": "aNyA2HcBO4ub",
        "colab_type": "code",
        "colab": {}
      },
      "source": [
        "def getBest(k):\n",
        "    \n",
        "    tic = time.time()\n",
        "    \n",
        "    results = []\n",
        "    \n",
        "    for combo in itertools.combinations(X.columns, k):\n",
        "        results.append(processSubset(combo))\n",
        "    \n",
        "    # Wrap everything up in a nice dataframe\n",
        "    models = pd.DataFrame(results)\n",
        "    \n",
        "    # Choose the model with the highest RSS\n",
        "    best_model = models.loc[models['RSS'].argmin()]\n",
        "    \n",
        "    toc = time.time()\n",
        "    print(\"Processed\", models.shape[0], \"models on\", k, \"predictors in\", (toc-tic), \"seconds.\")\n",
        "    \n",
        "    # Return the best model, along with some other useful information about the model\n",
        "    return best_model"
      ],
      "execution_count": null,
      "outputs": []
    },
    {
      "cell_type": "code",
      "metadata": {
        "id": "mPrvL3l5lm9j",
        "colab_type": "code",
        "colab": {
          "base_uri": "https://localhost:8080/",
          "height": 85
        },
        "outputId": "d4638a48-ba6c-4d05-ca1e-95c300e07f9c"
      },
      "source": [
        "# Could take quite awhile to complete...\n",
        "\n",
        "models_best = pd.DataFrame(columns=[\"RSS\", \"model\"])\n",
        "\n",
        "tic = time.time()\n",
        "for i in range(1,4):\n",
        "    models_best.loc[i] = getBest(i)\n",
        "\n",
        "toc = time.time()\n",
        "print(\"Total elapsed time:\", (toc-tic), \"seconds.\")"
      ],
      "execution_count": null,
      "outputs": [
        {
          "output_type": "stream",
          "text": [
            "Processed 33 models on 1 predictors in 0.14152169227600098 seconds.\n",
            "Processed 528 models on 2 predictors in 1.5714962482452393 seconds.\n",
            "Processed 5456 models on 3 predictors in 16.470415830612183 seconds.\n",
            "Total elapsed time: 18.25209093093872 seconds.\n"
          ],
          "name": "stdout"
        }
      ]
    },
    {
      "cell_type": "markdown",
      "metadata": {
        "id": "wbDdz4v-O4uh",
        "colab_type": "text"
      },
      "source": [
        "This returns a `DataFrame` containing the best model that we generated, along with some extra information about the model. Now we want to call that function for each number of predictors $k$:"
      ]
    },
    {
      "cell_type": "markdown",
      "metadata": {
        "id": "Hr7skhC3O4um",
        "colab_type": "text"
      },
      "source": [
        "Now we have one big `DataFrame` that contains the best models we've generated along with their RSS:"
      ]
    },
    {
      "cell_type": "code",
      "metadata": {
        "id": "EvQ-F0rMB122",
        "colab_type": "code",
        "colab": {
          "base_uri": "https://localhost:8080/",
          "height": 170
        },
        "outputId": "8a8b6cb6-d087-4886-e702-06433d741bdd"
      },
      "source": [
        "models_best.info()"
      ],
      "execution_count": null,
      "outputs": [
        {
          "output_type": "stream",
          "text": [
            "<class 'pandas.core.frame.DataFrame'>\n",
            "Int64Index: 3 entries, 1 to 3\n",
            "Data columns (total 2 columns):\n",
            " #   Column  Non-Null Count  Dtype  \n",
            "---  ------  --------------  -----  \n",
            " 0   RSS     3 non-null      float64\n",
            " 1   model   3 non-null      object \n",
            "dtypes: float64(1), object(1)\n",
            "memory usage: 72.0+ bytes\n"
          ],
          "name": "stdout"
        }
      ]
    },
    {
      "cell_type": "code",
      "metadata": {
        "id": "zo5_lTJkO4un",
        "colab_type": "code",
        "colab": {
          "base_uri": "https://localhost:8080/",
          "height": 142
        },
        "outputId": "e12cedd8-0095-4d4c-8294-df648422dc0b"
      },
      "source": [
        "models_best"
      ],
      "execution_count": null,
      "outputs": [
        {
          "output_type": "execute_result",
          "data": {
            "text/html": [
              "<div>\n",
              "<style scoped>\n",
              "    .dataframe tbody tr th:only-of-type {\n",
              "        vertical-align: middle;\n",
              "    }\n",
              "\n",
              "    .dataframe tbody tr th {\n",
              "        vertical-align: top;\n",
              "    }\n",
              "\n",
              "    .dataframe thead th {\n",
              "        text-align: right;\n",
              "    }\n",
              "</style>\n",
              "<table border=\"1\" class=\"dataframe\">\n",
              "  <thead>\n",
              "    <tr style=\"text-align: right;\">\n",
              "      <th></th>\n",
              "      <th>RSS</th>\n",
              "      <th>model</th>\n",
              "    </tr>\n",
              "  </thead>\n",
              "  <tbody>\n",
              "    <tr>\n",
              "      <th>1</th>\n",
              "      <td>280.597305</td>\n",
              "      <td>&lt;statsmodels.regression.linear_model.Regressio...</td>\n",
              "    </tr>\n",
              "    <tr>\n",
              "      <th>2</th>\n",
              "      <td>280.368415</td>\n",
              "      <td>&lt;statsmodels.regression.linear_model.Regressio...</td>\n",
              "    </tr>\n",
              "    <tr>\n",
              "      <th>3</th>\n",
              "      <td>280.169035</td>\n",
              "      <td>&lt;statsmodels.regression.linear_model.Regressio...</td>\n",
              "    </tr>\n",
              "  </tbody>\n",
              "</table>\n",
              "</div>"
            ],
            "text/plain": [
              "          RSS                                              model\n",
              "1  280.597305  <statsmodels.regression.linear_model.Regressio...\n",
              "2  280.368415  <statsmodels.regression.linear_model.Regressio...\n",
              "3  280.169035  <statsmodels.regression.linear_model.Regressio..."
            ]
          },
          "metadata": {
            "tags": []
          },
          "execution_count": 12
        }
      ]
    },
    {
      "cell_type": "markdown",
      "metadata": {
        "id": "4lHNxrTEO4us",
        "colab_type": "text"
      },
      "source": [
        "If we want to access the details of each model, no problem! We can get a full rundown of a single model using the `summary()` function:"
      ]
    },
    {
      "cell_type": "code",
      "metadata": {
        "id": "PHOX4RYVC0_a",
        "colab_type": "code",
        "colab": {
          "base_uri": "https://localhost:8080/",
          "height": 85
        },
        "outputId": "1a221d2c-07a3-4282-caba-623554d13958"
      },
      "source": [
        "models_best[\"model\"]"
      ],
      "execution_count": null,
      "outputs": [
        {
          "output_type": "execute_result",
          "data": {
            "text/plain": [
              "1    <statsmodels.regression.linear_model.Regressio...\n",
              "2    <statsmodels.regression.linear_model.Regressio...\n",
              "3    <statsmodels.regression.linear_model.Regressio...\n",
              "Name: model, dtype: object"
            ]
          },
          "metadata": {
            "tags": []
          },
          "execution_count": 13
        }
      ]
    },
    {
      "cell_type": "code",
      "metadata": {
        "id": "CRjkfNL1GTxq",
        "colab_type": "code",
        "colab": {
          "base_uri": "https://localhost:8080/",
          "height": 34
        },
        "outputId": "c2087037-495e-45fb-b045-d88f34d7cce8"
      },
      "source": [
        "df['HML_SI_BIN'].corr(df['HM_TEMP'])"
      ],
      "execution_count": null,
      "outputs": [
        {
          "output_type": "execute_result",
          "data": {
            "text/plain": [
              "-0.30693817791497097"
            ]
          },
          "metadata": {
            "tags": []
          },
          "execution_count": 14
        }
      ]
    },
    {
      "cell_type": "code",
      "metadata": {
        "id": "UW4-uFffMRRf",
        "colab_type": "code",
        "colab": {}
      },
      "source": [
        ""
      ],
      "execution_count": null,
      "outputs": []
    },
    {
      "cell_type": "code",
      "metadata": {
        "id": "XnYCrf9DMM40",
        "colab_type": "code",
        "colab": {
          "base_uri": "https://localhost:8080/",
          "height": 520
        },
        "outputId": "9959d3bf-b13b-46bb-adbe-4ab1c0b96e00"
      },
      "source": [
        "model = sm.OLS.from_formula(\"HML_SI~COMP_COLD_BLAST_FLOW+HM_TEMP+COLD_BLAST_HUMID \", data=df)\n",
        "res = model.fit()\n",
        "res.summary()"
      ],
      "execution_count": null,
      "outputs": [
        {
          "output_type": "execute_result",
          "data": {
            "text/html": [
              "<table class=\"simpletable\">\n",
              "<caption>OLS Regression Results</caption>\n",
              "<tr>\n",
              "  <th>Dep. Variable:</th>         <td>HML_SI</td>      <th>  R-squared:         </th> <td>   0.295</td>\n",
              "</tr>\n",
              "<tr>\n",
              "  <th>Model:</th>                   <td>OLS</td>       <th>  Adj. R-squared:    </th> <td>   0.291</td>\n",
              "</tr>\n",
              "<tr>\n",
              "  <th>Method:</th>             <td>Least Squares</td>  <th>  F-statistic:       </th> <td>   73.12</td>\n",
              "</tr>\n",
              "<tr>\n",
              "  <th>Date:</th>             <td>Sat, 20 Jun 2020</td> <th>  Prob (F-statistic):</th> <td>1.61e-39</td>\n",
              "</tr>\n",
              "<tr>\n",
              "  <th>Time:</th>                 <td>03:46:40</td>     <th>  Log-Likelihood:    </th> <td>  758.17</td>\n",
              "</tr>\n",
              "<tr>\n",
              "  <th>No. Observations:</th>      <td>   528</td>      <th>  AIC:               </th> <td>  -1508.</td>\n",
              "</tr>\n",
              "<tr>\n",
              "  <th>Df Residuals:</th>          <td>   524</td>      <th>  BIC:               </th> <td>  -1491.</td>\n",
              "</tr>\n",
              "<tr>\n",
              "  <th>Df Model:</th>              <td>     3</td>      <th>                     </th>     <td> </td>   \n",
              "</tr>\n",
              "<tr>\n",
              "  <th>Covariance Type:</th>      <td>nonrobust</td>    <th>                     </th>     <td> </td>   \n",
              "</tr>\n",
              "</table>\n",
              "<table class=\"simpletable\">\n",
              "<tr>\n",
              "            <td></td>              <th>coef</th>     <th>std err</th>      <th>t</th>      <th>P>|t|</th>  <th>[0.025</th>    <th>0.975]</th>  \n",
              "</tr>\n",
              "<tr>\n",
              "  <th>Intercept</th>            <td>   -3.8808</td> <td>    0.468</td> <td>   -8.295</td> <td> 0.000</td> <td>   -4.800</td> <td>   -2.962</td>\n",
              "</tr>\n",
              "<tr>\n",
              "  <th>COMP_COLD_BLAST_FLOW</th> <td>    0.0030</td> <td>    0.000</td> <td>    6.828</td> <td> 0.000</td> <td>    0.002</td> <td>    0.004</td>\n",
              "</tr>\n",
              "<tr>\n",
              "  <th>HM_TEMP</th>              <td>    0.0026</td> <td>    0.000</td> <td>    8.023</td> <td> 0.000</td> <td>    0.002</td> <td>    0.003</td>\n",
              "</tr>\n",
              "<tr>\n",
              "  <th>COLD_BLAST_HUMID</th>     <td>    0.0052</td> <td>    0.001</td> <td>    8.260</td> <td> 0.000</td> <td>    0.004</td> <td>    0.006</td>\n",
              "</tr>\n",
              "</table>\n",
              "<table class=\"simpletable\">\n",
              "<tr>\n",
              "  <th>Omnibus:</th>       <td> 6.958</td> <th>  Durbin-Watson:     </th> <td>   1.315</td>\n",
              "</tr>\n",
              "<tr>\n",
              "  <th>Prob(Omnibus):</th> <td> 0.031</td> <th>  Jarque-Bera (JB):  </th> <td>   7.426</td>\n",
              "</tr>\n",
              "<tr>\n",
              "  <th>Skew:</th>          <td> 0.202</td> <th>  Prob(JB):          </th> <td>  0.0244</td>\n",
              "</tr>\n",
              "<tr>\n",
              "  <th>Kurtosis:</th>      <td> 3.417</td> <th>  Cond. No.          </th> <td>2.83e+05</td>\n",
              "</tr>\n",
              "</table><br/><br/>Warnings:<br/>[1] Standard Errors assume that the covariance matrix of the errors is correctly specified.<br/>[2] The condition number is large, 2.83e+05. This might indicate that there are<br/>strong multicollinearity or other numerical problems."
            ],
            "text/plain": [
              "<class 'statsmodels.iolib.summary.Summary'>\n",
              "\"\"\"\n",
              "                            OLS Regression Results                            \n",
              "==============================================================================\n",
              "Dep. Variable:                 HML_SI   R-squared:                       0.295\n",
              "Model:                            OLS   Adj. R-squared:                  0.291\n",
              "Method:                 Least Squares   F-statistic:                     73.12\n",
              "Date:                Sat, 20 Jun 2020   Prob (F-statistic):           1.61e-39\n",
              "Time:                        03:46:40   Log-Likelihood:                 758.17\n",
              "No. Observations:                 528   AIC:                            -1508.\n",
              "Df Residuals:                     524   BIC:                            -1491.\n",
              "Df Model:                           3                                         \n",
              "Covariance Type:            nonrobust                                         \n",
              "========================================================================================\n",
              "                           coef    std err          t      P>|t|      [0.025      0.975]\n",
              "----------------------------------------------------------------------------------------\n",
              "Intercept               -3.8808      0.468     -8.295      0.000      -4.800      -2.962\n",
              "COMP_COLD_BLAST_FLOW     0.0030      0.000      6.828      0.000       0.002       0.004\n",
              "HM_TEMP                  0.0026      0.000      8.023      0.000       0.002       0.003\n",
              "COLD_BLAST_HUMID         0.0052      0.001      8.260      0.000       0.004       0.006\n",
              "==============================================================================\n",
              "Omnibus:                        6.958   Durbin-Watson:                   1.315\n",
              "Prob(Omnibus):                  0.031   Jarque-Bera (JB):                7.426\n",
              "Skew:                           0.202   Prob(JB):                       0.0244\n",
              "Kurtosis:                       3.417   Cond. No.                     2.83e+05\n",
              "==============================================================================\n",
              "\n",
              "Warnings:\n",
              "[1] Standard Errors assume that the covariance matrix of the errors is correctly specified.\n",
              "[2] The condition number is large, 2.83e+05. This might indicate that there are\n",
              "strong multicollinearity or other numerical problems.\n",
              "\"\"\""
            ]
          },
          "metadata": {
            "tags": []
          },
          "execution_count": 15
        }
      ]
    },
    {
      "cell_type": "code",
      "metadata": {
        "id": "oRCErLVLGo0p",
        "colab_type": "code",
        "colab": {
          "base_uri": "https://localhost:8080/",
          "height": 459
        },
        "outputId": "8840597d-aec4-4059-a61b-c8f0cbbf2509"
      },
      "source": [
        "print(models_best.loc[3, \"model\"].summary())"
      ],
      "execution_count": null,
      "outputs": [
        {
          "output_type": "stream",
          "text": [
            "                                 OLS Regression Results                                \n",
            "=======================================================================================\n",
            "Dep. Variable:                 HML_SI   R-squared (uncentered):                   0.003\n",
            "Model:                            OLS   Adj. R-squared (uncentered):             -0.003\n",
            "Method:                 Least Squares   F-statistic:                             0.4975\n",
            "Date:                Sat, 20 Jun 2020   Prob (F-statistic):                       0.684\n",
            "Time:                        03:46:40   Log-Likelihood:                         -581.90\n",
            "No. Observations:                 528   AIC:                                      1170.\n",
            "Df Residuals:                     525   BIC:                                      1183.\n",
            "Df Model:                           3                                                  \n",
            "Covariance Type:            nonrobust                                                  \n",
            "========================================================================================\n",
            "                           coef    std err          t      P>|t|      [0.025      0.975]\n",
            "----------------------------------------------------------------------------------------\n",
            "HM_TEMP                  0.0237      0.032      0.741      0.459      -0.039       0.086\n",
            "COLD_BLAST_O2_ENRICH    -0.0206      0.032     -0.642      0.521      -0.084       0.042\n",
            "COLD_BLAST_HUMID         0.0220      0.032      0.687      0.493      -0.041       0.085\n",
            "==============================================================================\n",
            "Omnibus:                        4.105   Durbin-Watson:                   0.008\n",
            "Prob(Omnibus):                  0.128   Jarque-Bera (JB):                3.892\n",
            "Skew:                           0.186   Prob(JB):                        0.143\n",
            "Kurtosis:                       3.197   Cond. No.                         1.14\n",
            "==============================================================================\n",
            "\n",
            "Warnings:\n",
            "[1] Standard Errors assume that the covariance matrix of the errors is correctly specified.\n"
          ],
          "name": "stdout"
        }
      ]
    },
    {
      "cell_type": "code",
      "metadata": {
        "id": "-M0gOW1OO4us",
        "colab_type": "code",
        "colab": {
          "base_uri": "https://localhost:8080/",
          "height": 442
        },
        "outputId": "88b21faf-eda9-40e3-dbfc-182d7762327d"
      },
      "source": [
        "print(models_best.loc[2, \"model\"].summary())"
      ],
      "execution_count": null,
      "outputs": [
        {
          "output_type": "stream",
          "text": [
            "                                 OLS Regression Results                                \n",
            "=======================================================================================\n",
            "Dep. Variable:                 HML_SI   R-squared (uncentered):                   0.002\n",
            "Model:                            OLS   Adj. R-squared (uncentered):             -0.002\n",
            "Method:                 Least Squares   F-statistic:                             0.5601\n",
            "Date:                Sat, 20 Jun 2020   Prob (F-statistic):                       0.571\n",
            "Time:                        03:46:40   Log-Likelihood:                         -582.09\n",
            "No. Observations:                 528   AIC:                                      1168.\n",
            "Df Residuals:                     526   BIC:                                      1177.\n",
            "Df Model:                           2                                                  \n",
            "Covariance Type:            nonrobust                                                  \n",
            "==================================================================================\n",
            "                     coef    std err          t      P>|t|      [0.025      0.975]\n",
            "----------------------------------------------------------------------------------\n",
            "CORR_COKE_RATE     0.0208      0.032      0.655      0.513      -0.042       0.083\n",
            "HM_TEMP            0.0271      0.032      0.852      0.395      -0.035       0.090\n",
            "==============================================================================\n",
            "Omnibus:                       39.747   Durbin-Watson:                   0.010\n",
            "Prob(Omnibus):                  0.000   Jarque-Bera (JB):               79.502\n",
            "Skew:                           0.453   Prob(JB):                     5.45e-18\n",
            "Kurtosis:                       4.671   Cond. No.                         1.03\n",
            "==============================================================================\n",
            "\n",
            "Warnings:\n",
            "[1] Standard Errors assume that the covariance matrix of the errors is correctly specified.\n"
          ],
          "name": "stdout"
        }
      ]
    },
    {
      "cell_type": "markdown",
      "metadata": {
        "id": "W5D5eoZcO4ux",
        "colab_type": "text"
      },
      "source": [
        "This output indicates that the best two-variable model\n",
        "contains only `Hits` and `CRBI`. To save time, we only generated results\n",
        "up to the best 7-variable model. You can use the functions we defined above to explore as many variables as are desired."
      ]
    },
    {
      "cell_type": "markdown",
      "metadata": {
        "id": "NsBOEmydO4u3",
        "colab_type": "text"
      },
      "source": [
        "Rather than letting the results of our call to the `summary()` function print to the screen, we can access just the parts we need using the model's attributes. For example, if we want the $R^2$ value:"
      ]
    },
    {
      "cell_type": "code",
      "metadata": {
        "id": "umd8rsvsO4u4",
        "colab_type": "code",
        "colab": {
          "base_uri": "https://localhost:8080/",
          "height": 34
        },
        "outputId": "6ef84a51-3fe5-4b72-b2d8-19f59ebe04fe"
      },
      "source": [
        "models_best.loc[1, \"model\"].rsquared"
      ],
      "execution_count": null,
      "outputs": [
        {
          "output_type": "execute_result",
          "data": {
            "text/plain": [
              "0.0013104655859120795"
            ]
          },
          "metadata": {
            "tags": []
          },
          "execution_count": 18
        }
      ]
    },
    {
      "cell_type": "markdown",
      "metadata": {
        "id": "ezY8KxSgO4u9",
        "colab_type": "text"
      },
      "source": [
        "Excellent! In addition to the verbose output we get when we print the summary to the screen, fitting the `OLM` also produced many other useful statistics such as adjusted $R^2$, AIC, and BIC. We can examine these to try to select the best overall model. Let's start by looking at $R^2$ across all our models:"
      ]
    },
    {
      "cell_type": "code",
      "metadata": {
        "id": "h51v8OsiO4u-",
        "colab_type": "code",
        "colab": {
          "base_uri": "https://localhost:8080/",
          "height": 85
        },
        "outputId": "d64e4350-6624-420a-9871-323c29777a66"
      },
      "source": [
        "# Gets the second element from each row ('model') and pulls out its rsquared attribute\n",
        "models_best.apply(lambda row: row[1].rsquared, axis=1)"
      ],
      "execution_count": null,
      "outputs": [
        {
          "output_type": "execute_result",
          "data": {
            "text/plain": [
              "1    0.001310\n",
              "2    0.002125\n",
              "3    0.002835\n",
              "dtype: float64"
            ]
          },
          "metadata": {
            "tags": []
          },
          "execution_count": 19
        }
      ]
    },
    {
      "cell_type": "markdown",
      "metadata": {
        "id": "cjqM27geO4vB",
        "colab_type": "text"
      },
      "source": [
        "As expected, the $R^2$ statistic increases monotonically as more\n",
        "variables are included.\n",
        "\n",
        "Plotting RSS, adjusted $R^2$, AIC, and BIC for all of the models at once will\n",
        "help us decide which model to select. Note the `type=\"l\"` option tells `R` to\n",
        "connect the plotted points with lines:"
      ]
    },
    {
      "cell_type": "code",
      "metadata": {
        "id": "aYQXLO3_O4vC",
        "colab_type": "code",
        "colab": {
          "base_uri": "https://localhost:8080/",
          "height": 643
        },
        "outputId": "b8eaf33a-d11c-4363-d2fb-a6e411695b6d"
      },
      "source": [
        "plt.figure(figsize=(20,10))\n",
        "plt.rcParams.update({'font.size': 18, 'lines.markersize': 10})\n",
        "\n",
        "# Set up a 2x2 grid so we can look at 4 plots at once\n",
        "plt.subplot(2, 2, 1)\n",
        "\n",
        "# We will now plot a red dot to indicate the model with the largest adjusted R^2 statistic.\n",
        "# The argmax() function can be used to identify the location of the maximum point of a vector\n",
        "plt.plot(models_best[\"RSS\"])\n",
        "plt.xlabel('# Predictors')\n",
        "plt.ylabel('RSS')\n",
        "\n",
        "# We will now plot a red dot to indicate the model with the largest adjusted R^2 statistic.\n",
        "# The argmax() function can be used to identify the location of the maximum point of a vector\n",
        "\n",
        "rsquared_adj = models_best.apply(lambda row: row[1].rsquared_adj, axis=1)\n",
        "\n",
        "plt.subplot(2, 2, 2)\n",
        "plt.plot(rsquared_adj)\n",
        "plt.plot(rsquared_adj.argmax(), rsquared_adj.max(), \"or\")\n",
        "plt.xlabel('# Predictors')\n",
        "plt.ylabel('adjusted rsquared')\n",
        "\n",
        "# We'll do the same for AIC and BIC, this time looking for the models with the SMALLEST statistic\n",
        "aic = models_best.apply(lambda row: row[1].aic, axis=1)\n",
        "\n",
        "plt.subplot(2, 2, 3)\n",
        "plt.plot(aic)\n",
        "plt.plot(aic.argmin(), aic.min(), \"or\")\n",
        "plt.xlabel('# Predictors')\n",
        "plt.ylabel('AIC')\n",
        "\n",
        "bic = models_best.apply(lambda row: row[1].bic, axis=1)\n",
        "\n",
        "plt.subplot(2, 2, 4)\n",
        "plt.plot(bic)\n",
        "plt.plot(bic.argmin(), bic.min(), \"or\")\n",
        "plt.xlabel('# Predictors')\n",
        "plt.ylabel('BIC')"
      ],
      "execution_count": null,
      "outputs": [
        {
          "output_type": "execute_result",
          "data": {
            "text/plain": [
              "Text(0, 0.5, 'BIC')"
            ]
          },
          "metadata": {
            "tags": []
          },
          "execution_count": 20
        },
        {
          "output_type": "display_data",
          "data": {
            "image/png": "[encoded data removed]",
            "text/plain": [
              "<Figure size 1440x720 with 4 Axes>"
            ]
          },
          "metadata": {
            "tags": [],
            "needs_background": "light"
          }
        }
      ]
    },
    {
      "cell_type": "code",
      "metadata": {
        "id": "BSGnKKt4O4va",
        "colab_type": "code",
        "colab": {
          "base_uri": "https://localhost:8080/",
          "height": 136
        },
        "outputId": "1cdf9bc8-e303-4bff-ba4d-106b33e603b6"
      },
      "source": [
        "print(\"------------\")\n",
        "print(\"Best Subset:\")\n",
        "print(\"------------\")\n",
        "print(models_best.loc[3, \"model\"].params)"
      ],
      "execution_count": null,
      "outputs": [
        {
          "output_type": "stream",
          "text": [
            "------------\n",
            "Best Subset:\n",
            "------------\n",
            "HM_TEMP                 0.023670\n",
            "COLD_BLAST_O2_ENRICH   -0.020574\n",
            "COLD_BLAST_HUMID        0.021961\n",
            "dtype: float64\n"
          ],
          "name": "stdout"
        }
      ]
    },
    {
      "cell_type": "code",
      "metadata": {
        "id": "_MH3NYtbDlyQ",
        "colab_type": "code",
        "colab": {}
      },
      "source": [
        ""
      ],
      "execution_count": null,
      "outputs": []
    }
  ]
}
